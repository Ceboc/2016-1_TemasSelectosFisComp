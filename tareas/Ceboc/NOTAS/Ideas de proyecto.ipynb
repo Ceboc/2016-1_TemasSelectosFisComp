{
 "cells": [
  {
   "cell_type": "markdown",
   "metadata": {},
   "source": [
    "# Ideas para proyecto\n",
    "\n",
    "1. N cuerpos en el círculo (con interaccioens de largo alcance).\n",
    "2. N \"coches\" en el círculo con un tope.\n",
    "3. órbitas perióicas y estabilidad (Hénon-Heiles).\n",
    "4. Jet transport: integrar una región en el espacio fase.\n",
    "5. Resonacias paramétricas.\n",
    "6. Atomo de He en 1d.\n",
    "7. Modelos deperedador-presa (Lofka-Volterra).\n",
    "8. BEC clásico en 3 pozos."
   ]
  }
 ],
 "metadata": {
  "kernelspec": {
   "display_name": "Julia 0.3.11",
   "language": "julia",
   "name": "julia-0.3"
  },
  "language_info": {
   "file_extension": ".jl",
   "mimetype": "application/julia",
   "name": "julia",
   "version": "0.3.11"
  }
 },
 "nbformat": 4,
 "nbformat_minor": 0
}
