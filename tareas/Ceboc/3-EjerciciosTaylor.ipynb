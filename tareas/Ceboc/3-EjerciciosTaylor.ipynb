{
 "cells": [
  {
   "cell_type": "code",
   "execution_count": 2,
   "metadata": {
    "collapsed": false
   },
   "outputs": [
    {
     "name": "stderr",
     "output_type": "stream",
     "text": [
      "INFO: Loading help data...\n"
     ]
    }
   ],
   "source": [
    "using PyPlot"
   ]
  },
  {
   "cell_type": "markdown",
   "metadata": {},
   "source": [
    "### Ejercicio 1: Relaciones de recurrencia\n",
    "\n",
    "Así como se hizo en clase para la exponencial, el logaritmo, y las potencias; obtén las series de recurrencia para las siguientes funciones:\n",
    "\n",
    "* Seno.\n",
    "* Coseno.\n",
    "* Tangente.\n",
    "* Cotangente.\n",
    "\n",
    "¿Hay algún problema al intentar calcular la cotangente? Si la respuesta es sí ¿cuál?, si la respuesta es no ¿por qué?"
   ]
  },
  {
   "cell_type": "markdown",
   "metadata": {},
   "source": [
    "Utilizaré las siguentes fórmulas para obtener las relaciones solicitadas\n",
    "\n",
    "$$\n",
    "\\sin{g(x)} = \\sum_{k=0}^{\\infty} (\\sin{g})_k (x-x_0)^k\n",
    "$$\n",
    "\n",
    "$$\n",
    "\\frac{d \\sin{g(x)}}{d x}=\\cos{g(x)}\\cdot g'(x) = \\sum_{k=1}^{\\infty} k \\cdot (\\sin{g})_k (x-x_0)^{k-1}\n",
    "$$\n",
    "\n",
    "$$\n",
    "\\cos{g(x)}=\\sum_{k=0}^\\infty (\\cos{g})_k (x-x_0)^k\n",
    "$$\n",
    "\n",
    "$$\n",
    "\\frac{d \\cos{g(x)}}{d x}=-\\sin{g(x)}\\cdot g'(x) = \\sum_{k=1}^{\\infty} k \\cdot (\\cos{g})_k (x-x_0)^{k-1}\n",
    "$$\n",
    "\n",
    "\n",
    "$$\n",
    "g'(x)=\\sum_{k=1}^\\infty k g_k (x-x_0)^{k-1}\n",
    "$$\n",
    "\n",
    "y la fórmula que se había obtenido en clase para el producto\n",
    "\n",
    "$$\n",
    "g'(x)=\\sum_{k=1}^\\infty k g_k (x-x_0)^{k-1}\n",
    "$$\n",
    "\n",
    "para el seno entonces se tiene que sustituyendo donde corresponde para las expresiones de su derivada.\n",
    "\n",
    "$$\n",
    "\\sum_{k=1}^\\infty k\\cdot(\\sin{g})_k \\cdot (x-x_0)^{k-1} = \\sum_{k=0}^\\infty (\\cos{g})_k \\cdot (x-x_0)^k \\sum_{k=1}^\\infty k\\cdot (g)_k \\cdot (x-x_0)^{k-1}\n",
    "$$\n",
    "\n",
    "Multiplicando a ambos lado por $(x-x_0)$\n",
    "\n",
    "$$\n",
    "\\sum_{k=1}^\\infty k\\cdot(\\sin{g})_k \\cdot (x-x_0)^{k} = \\sum_{k=0}^\\infty (\\cos{g})_k \\cdot (x-x_0)^k \\sum_{k=1}^\\infty k\\cdot (g)_k \\cdot (x-x_0)^{k}\n",
    "$$\n",
    "\n",
    "Por la regla del producto, si $k > 0$\n",
    "\n",
    "$$\n",
    "k(\\sin{g})_k = \\sum_{i=1}^k i\\cdot g_k (\\cos{g})_{k-i}\n",
    "$$\n",
    "\n",
    "con lo que \n",
    "\n",
    "$$\n",
    "(\\sin{g})_k = \\begin{cases} \\sin{g_0} &\\mbox{if } k = 0 \\\\\n",
    " \\frac{1}{k}\\sum_{i=1}^k i\\cdot g_k (\\cos{g})_{k-i} & \\mbox{if } k > 0 \\end{cases} \n",
    " $$\n",
    " \n",
    "para el coseno se hace algo análogo, sustituyendo donde corresponde para las expresiones de su derivada.\n",
    "\n",
    "$$\n",
    "\\sum_{k=1}^\\infty k\\cdot(\\cos{g})_k \\cdot (x-x_0)^{k-1} = -\\sum_{k=0}^\\infty (\\sin{g})_k \\cdot (x-x_0)^k \\sum_{k=1}^\\infty k\\cdot (g)_k \\cdot (x-x_0)^{k-1}\n",
    "$$\n",
    "\n",
    "y se multiplica a ambos lados por $(x-x_0)$\n",
    "\n",
    "$$\n",
    "\\sum_{k=1}^\\infty k\\cdot(\\cos{g})_k \\cdot (x-x_0)^{k} = -\\sum_{k=0}^\\infty (\\sin{g})_k \\cdot (x-x_0)^k \\sum_{k=1}^\\infty k\\cdot (g)_k \\cdot (x-x_0)^{k}\n",
    "$$\n",
    "\n",
    "Por la regla del producto, si $k > 0$\n",
    "\n",
    "$$\n",
    "k(\\cos{g})_k = -\\sum_{i=1}^k i\\cdot g_k (\\sin{g})_{k-i}\n",
    "$$\n",
    "\n",
    "con lo que \n",
    "\n",
    "$$\n",
    "(\\cos{g})_k = \\begin{cases} \\cos{g_0} &\\mbox{if } k = 0 \\\\\n",
    " -\\frac{1}{k}\\sum_{i=1}^k i\\cdot g_k (\\sin{g})_{k-i} & \\mbox{if } k > 0 \\end{cases} \n",
    " $$"
   ]
  },
  {
   "cell_type": "markdown",
   "metadata": {},
   "source": [
    "### Ejercicio 2: Integración con Runge–Kutta\n",
    "\n",
    "Utilizando el método de [Runge–Kutta de cuarto orden](http://www.ctcms.nist.gov/~langer/oof2man/RegisteredClass-RK4.html) haz lo siguiente:\n",
    "\n",
    "* Integra la siguiente ecuación diferencial,\n",
    "\n",
    "$$ \\dot{x} = x^2, \\qquad x(0) = 1.$$ \n",
    "\n",
    "* Compara tu solución contra la solución analítica en una gráfica.\n",
    "* Muestra cómo se comporta el error."
   ]
  },
  {
   "cell_type": "markdown",
   "metadata": {},
   "source": [
    "Reciclo código que ya tenía hecho hace ya un año, en la clase del profesor Sanders, en aquella ocasión se nos pidió programar los métodos de integración de Euler, Euler-Cromer, punto medio y Runge-Kuta-4. Lo que hice primero fue declarar cada uno de los métodos y luego llamar una función integradora tal que integrara una función dependiendo del método empleado. Lo mejor es que me dará oportunidad de comparar cada uno de los métodos con la integración de Taylor."
   ]
  },
  {
   "cell_type": "code",
   "execution_count": 3,
   "metadata": {
    "collapsed": false
   },
   "outputs": [
    {
     "data": {
      "text/plain": [
       "rk4 (generic function with 1 method)"
      ]
     },
     "execution_count": 3,
     "metadata": {},
     "output_type": "execute_result"
    }
   ],
   "source": [
    "#En todos los casos:\n",
    "# ti = tiempo inicial\n",
    "# q0 = posición inicial\n",
    "# v0 = velocidad inicial\n",
    "# fq = dx/dt  #Función para la posición\n",
    "# fv = dv/dt = d^2 t / dt^2 #Función para la velocidad\n",
    "# h = tamaño del paso\n",
    "\n",
    "function euler(ti,q0,v0,fq,fv,h)\n",
    "    v_nueva = v0 + h*fv(ti,q0,v0)\n",
    "    q_nueva = q0 + h*fq(ti,q0,v0)\n",
    "    q_nueva , v_nueva\n",
    "end\n",
    "\n",
    "function eulercromer (ti,q0,v0,fq,fv,h)\n",
    "    v_nueva = v0 + h*fv(ti,q0,v0)\n",
    "    q_nueva = q0 + h*fq(ti+h,q0,v_nueva)\n",
    "    q_nueva , v_nueva\n",
    "end\n",
    "\n",
    "function puntomedio(ti,q0,v0,fq,fv,h)\n",
    "    v_nueva = v0 + h*fv(ti,q0,v0)\n",
    "    q_nueva = q0 + h*0.5*(v_nueva + v0)\n",
    "    q_nueva , v_nueva\n",
    "end \n",
    "\n",
    "function rk4(ti,q0,v0,fq,fv,h)\n",
    "        f1v = fv(ti,q0,v0)\n",
    "        f1q = fq(ti,q0,v0)\n",
    "        \n",
    "        f2v = fv(ti+0.5*h,q0+0.5*h*f1q,v0+0.5*h*f1v)\n",
    "        f2q = fq(ti+0.5*h,q0+0.5*h*f1q,v0+0.5*h*f1v)\n",
    "        \n",
    "        f3v = fv(ti+0.5*h,q0+0.5*h*f2q,v0+0.5*h*f2v)\n",
    "        f3q = fq(ti+0.5*h,q0+0.5*h*f2q,v0+0.5*h*f2v)\n",
    "        \n",
    "        f4v = fv(ti+h,q0+h*f3q,v0+h*f3v)\n",
    "        f4q = fq(ti+h,q0+h*f3q,v0+h*f3v)\n",
    "\n",
    "    v_nueva = v0 + (1/6)*h*(f1v+2*f2v+2*f3v+f4v)\n",
    "    q_nueva = q0 + (1/6)*h*(f1q+2*f2q+2*f3q+f4q)\n",
    "    \n",
    "    q_nueva, v_nueva\n",
    "end "
   ]
  },
  {
   "cell_type": "markdown",
   "metadata": {},
   "source": [
    "Ahora lo que se va a declarar es una función de integración."
   ]
  },
  {
   "cell_type": "code",
   "execution_count": 4,
   "metadata": {
    "collapsed": false
   },
   "outputs": [
    {
     "data": {
      "text/plain": [
       "integrar (generic function with 1 method)"
      ]
     },
     "execution_count": 4,
     "metadata": {},
     "output_type": "execute_result"
    }
   ],
   "source": [
    "# tf = tiempo final\n",
    "# método va de 1 a 4, y se selecciona en el orden de las \n",
    "function integrar(t0,tf,q0,v0,fq,fv,h,metodo)\n",
    "  v = Vector{Float64}[v0] #Arreglo para los vectores de velocidad\n",
    "  q = Vector{Float64}[q0] #Arreglo para los vectores de posición\n",
    "  t = Float64[t0] #arreglo de tiempo\n",
    "    \n",
    "    if metodo == 1\n",
    "          for ti in t0:h:tf\n",
    "            R = euler(ti,q0,v0,fq,fv,h)\n",
    "            v0 = R[2]\n",
    "            q0 = R[1]\n",
    "            \n",
    "            push!(t,ti)\n",
    "            push!(v,[v0])\n",
    "            push!(q,[q0])\n",
    "        end\n",
    "            [t hcat(q...)' hcat(v...)']\n",
    "    elseif metodo == 2\n",
    "        for ti in t0:h:tf\n",
    "            R = eulercromer(ti,q0,v0,fq,fv,h)\n",
    "            v0 = R[2]\n",
    "            q0 = R[1]\n",
    "            \n",
    "            push!(t,ti)\n",
    "            push!(v,[v0])\n",
    "            push!(q,[q0])\n",
    "        end\n",
    "        [t hcat(q...)' hcat(v...)']\n",
    "    elseif metodo == 3\n",
    "        for ti in t0:h:tf\n",
    "            R = puntomedio(ti,q0,v0,fq,fv,h)\n",
    "            v0 = R[2]\n",
    "            q0 = R[1]\n",
    "            \n",
    "            push!(t,ti)\n",
    "            push!(v,[v0])\n",
    "            push!(q,[q0])\n",
    "        end\n",
    "        [t hcat(q...)' hcat(v...)']\n",
    "    elseif metodo == 4\n",
    "        for ti in t0:h:tf\n",
    "            R = rk4(ti,q0,v0,fq,fv,h)\n",
    "            v0 = R[2]\n",
    "            q0 = R[1]\n",
    "            \n",
    "            push!(t,ti)\n",
    "            push!(v,[v0])\n",
    "            push!(q,[q0])\n",
    "        end\n",
    "        [t hcat(q...)' hcat(v...)']\n",
    "    else\n",
    "        print(\"SELECCIONE UNA OPCIÓN VÁLIDA\") #Por si no se mete una opción entera entre 1 y 4\n",
    "    end\n",
    "end"
   ]
  },
  {
   "cell_type": "code",
   "execution_count": 5,
   "metadata": {
    "collapsed": false
   },
   "outputs": [
    {
     "data": {
      "text/plain": [
       "f_v (generic function with 1 method)"
      ]
     },
     "execution_count": 5,
     "metadata": {},
     "output_type": "execute_result"
    }
   ],
   "source": [
    "function f_q(t,q,v)\n",
    "    q[1]*q[1]\n",
    "end\n",
    "\n",
    "function f_v(t,q,v)\n",
    "    0\n",
    "end"
   ]
  },
  {
   "cell_type": "code",
   "execution_count": 17,
   "metadata": {
    "collapsed": false
   },
   "outputs": [],
   "source": [
    "A1=integrar(0.0,0.85,[1.0],[0.0],f_q,f_v,1/2^10,1);\n",
    "A2=integrar(0.0,0.85,[1.0],[0.0],f_q,f_v,1/2^10,2);\n",
    "A3=integrar(0.0,0.85,[1.0],[0.0],f_q,f_v,1/2^10,3);\n",
    "A4=integrar(0.0,0.85,[1.0],[0.0],f_q,f_v,1/2^10,4);"
   ]
  },
  {
   "cell_type": "code",
   "execution_count": 20,
   "metadata": {
    "collapsed": false
   },
   "outputs": [
    {
     "data": {
      "image/png": "[encoded data removed]",
      "text/plain": [
       "Figure(PyObject <matplotlib.figure.Figure object at 0x7fdedcd24780>)"
      ]
     },
     "metadata": {},
     "output_type": "display_data"
    },
    {
     "data": {
      "text/plain": [
       "PyObject <matplotlib.legend.Legend object at 0x7fdedcd1db00>"
      ]
     },
     "execution_count": 20,
     "metadata": {},
     "output_type": "execute_result"
    }
   ],
   "source": [
    "plot(A1[:,1],A1[:,2],label=(\"Euler\"));\n",
    "plot(A2[:,1],A2[:,2],label=(\"Euler-Cromer\"));\n",
    "plot(A3[:,1],A3[:,2],label=(\"Punto medio\"));\n",
    "plot(A4[:,1],A4[:,2],label=(\"Runge-Kuta 4\"));\n",
    "xlabel(L\"t\")\n",
    "ylabel(L\"x\")\n",
    "legend(loc=\"upper left\",fancybox=\"true\")"
   ]
  },
  {
   "cell_type": "markdown",
   "metadata": {},
   "source": [
    "###  Ejercicio 3: Integración con Taylor \n",
    "\n",
    "Repite los tres puntos del ejercicio anterior utilizando el método de integración de Taylor."
   ]
  },
  {
   "cell_type": "markdown",
   "metadata": {},
   "source": [
    "### Ejercicio 4: Recordatorio\n",
    "\n",
    "> Memoria minuitur nisi eam exerceas — La memoria disminuye si no la ejercitas (Marco Tulio Cicerón).\n",
    "\n",
    "Con tus palabras explica (sin utilizar muchas matemáticas) lo siguiente:\n",
    "\n",
    "* La esencia del método de integración de Taylor.\n",
    "* ¿Qué relación tiene con los duales?\n",
    "* ¿Cómo elegimos el paso de avance en el método de Taylor?\n",
    "* ¿Se pueden integrar sistemas de ecuaciones con este método? ¿Por qué?"
   ]
  }
 ],
 "metadata": {
  "kernelspec": {
   "display_name": "Julia 0.4.0",
   "language": "julia",
   "name": "julia-0.4"
  },
  "language_info": {
   "file_extension": ".jl",
   "mimetype": "application/julia",
   "name": "julia",
   "version": "0.4.0"
  }
 },
 "nbformat": 4,
 "nbformat_minor": 0
}
