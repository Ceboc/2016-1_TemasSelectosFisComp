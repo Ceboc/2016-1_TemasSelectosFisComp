{
 "cells": [
  {
   "cell_type": "code",
   "execution_count": 1,
   "metadata": {
    "collapsed": false
   },
   "outputs": [],
   "source": [
    "using PyPlot"
   ]
  },
  {
   "cell_type": "markdown",
   "metadata": {},
   "source": [
    "### Ejercicio 1: Relaciones de recurrencia\n",
    "\n",
    "Así como se hizo en clase para la exponencial, el logaritmo, y las potencias; obtén las series de recurrencia para las siguientes funciones:\n",
    "\n",
    "* Seno.\n",
    "* Coseno.\n",
    "* Tangente.\n",
    "* Cotangente.\n",
    "\n",
    "¿Hay algún problema al intentar calcular la cotangente? Si la respuesta es sí ¿cuál?, si la respuesta es no ¿por qué?"
   ]
  },
  {
   "cell_type": "markdown",
   "metadata": {},
   "source": [
    "Utilizaré las siguentes fórmulas para obtener las relaciones solicitadas\n",
    "\n",
    "$$\n",
    "\\sin{g(x)} = \\sum_{k=0}^{\\infty} (\\sin{g})_k (x-x_0)^k\n",
    "$$\n",
    "\n",
    "$$\n",
    "\\frac{d \\sin{g(x)}}{d x}=\\cos{g(x)}\\cdot g'(x) = \\sum_{k=1}^{\\infty} k \\cdot (\\sin{g})_k (x-x_0)^{k-1}\n",
    "$$\n",
    "\n",
    "$$\n",
    "\\cos{g(x)}=\\sum_{k=0}^\\infty (\\cos{g})_k (x-x_0)^k\n",
    "$$\n",
    "\n",
    "$$\n",
    "\\frac{d \\cos{g(x)}}{d x}=-\\sin{g(x)}\\cdot g'(x) = \\sum_{k=1}^{\\infty} k \\cdot (\\cos{g})_k (x-x_0)^{k-1}\n",
    "$$\n",
    "\n",
    "\n",
    "$$\n",
    "g'(x)=\\sum_{k=1}^\\infty k g_k (x-x_0)^{k-1}\n",
    "$$\n",
    "\n",
    "y la fórmula que se había obtenido en clase para el producto y la división\n",
    "\n",
    "$$\n",
    "(f(x)\\times g(x))_k = \\sum_{n=0}^K f_n g_{k-n}\n",
    "$$\n",
    "\n",
    "$$\n",
    "(f(x)\\div g(x))_k = \\frac{1}{g_0} (f_k - \\sum_{i=0}^{k-1}(f \\div g)_i g_{k-i})\n",
    "$$\n",
    "\n",
    "para el seno entonces se tiene que sustituyendo donde corresponde para las expresiones de su derivada.\n",
    "\n",
    "$$\n",
    "\\sum_{k=1}^\\infty k\\cdot(\\sin{g})_k \\cdot (x-x_0)^{k-1} = \\sum_{k=0}^\\infty (\\cos{g})_k \\cdot (x-x_0)^k \\sum_{k=1}^\\infty k\\cdot (g)_k \\cdot (x-x_0)^{k-1}\n",
    "$$\n",
    "\n",
    "Multiplicando a ambos lado por $(x-x_0)$\n",
    "\n",
    "$$\n",
    "\\sum_{k=1}^\\infty k\\cdot(\\sin{g})_k \\cdot (x-x_0)^{k} = \\sum_{k=0}^\\infty (\\cos{g})_k \\cdot (x-x_0)^k \\sum_{k=1}^\\infty k\\cdot (g)_k \\cdot (x-x_0)^{k}\n",
    "$$\n",
    "\n",
    "Por la regla del producto, si $k > 0$\n",
    "\n",
    "$$\n",
    "k(\\sin{g})_k = \\sum_{i=1}^k i\\cdot g_k (\\cos{g})_{k-i}\n",
    "$$\n",
    "\n",
    "con lo que \n",
    "\n",
    "$$\n",
    "(\\sin{g})_k = \\begin{cases} \\sin{g_0} &\\mbox{if } k = 0 \\\\\n",
    " \\frac{1}{k}\\sum_{i=1}^k i\\cdot g_k (\\cos{g})_{k-i} & \\mbox{if } k > 0 \\end{cases} \n",
    " $$\n",
    " \n",
    "para el coseno se hace algo análogo, sustituyendo donde corresponde para las expresiones de su derivada.\n",
    "\n",
    "$$\n",
    "\\sum_{k=1}^\\infty k\\cdot(\\cos{g})_k \\cdot (x-x_0)^{k-1} = -\\sum_{k=0}^\\infty (\\sin{g})_k \\cdot (x-x_0)^k \\sum_{k=1}^\\infty k\\cdot (g)_k \\cdot (x-x_0)^{k-1}\n",
    "$$\n",
    "\n",
    "y se multiplica a ambos lados por $(x-x_0)$\n",
    "\n",
    "$$\n",
    "\\sum_{k=1}^\\infty k\\cdot(\\cos{g})_k \\cdot (x-x_0)^{k} = -\\sum_{k=0}^\\infty (\\sin{g})_k \\cdot (x-x_0)^k \\sum_{k=1}^\\infty k\\cdot (g)_k \\cdot (x-x_0)^{k}\n",
    "$$\n",
    "\n",
    "Por la regla del producto, si $k > 0$\n",
    "\n",
    "$$\n",
    "k(\\cos{g})_k = -\\sum_{i=1}^k i\\cdot g_k (\\sin{g})_{k-i}\n",
    "$$\n",
    "\n",
    "con lo que \n",
    "\n",
    "$$\n",
    "(\\cos{g})_k = \\begin{cases} \\cos{g_0} &\\mbox{if } k = 0 \\\\\n",
    " -\\frac{1}{k}\\sum_{i=1}^k i\\cdot g_k (\\sin{g})_{k-i} & \\mbox{if } k > 0 \\end{cases} \n",
    " $$\n",
    " \n",
    "Ahora para la tangente, como $\\tan{x}=\\sin{x}\\div \\cos{x}$, para $k>0$, por el algoritmo de los coeficientes de la división entre funciones.\n",
    "\n",
    "$$\n",
    "(\\tan{g})_k = \\frac{1}{\\cos{g_0}} ((\\sin{g})_k - \\sum_{i=0}^{k-1}(\\tan{g})_i (\\cos{g})_{k-i})\n",
    "$$\n",
    "\n",
    "$$\n",
    "=\\frac{1}{\\cos{g_0}} (\\frac{1}{k}\\sum_{i=1}^k i\\cdot g_i (\\cos{g})_{k-1} - \\sum_{i=0}^{k-1}(\\tan{g})_i (\\cos{g})_{k-i})\n",
    "$$\n",
    "\n",
    "$$\n",
    "=\\frac{1}{g_0}(\\frac{k g_k (\\cos{g})_0}{k} + \\frac{1}{k} \\sum_{n=1}^{k-1} i \\cdot g_i (\\cos{g})_{k-i} - \\frac{1}{k} \\sum_{i=0}^{k-1}(\\tan{g})_i (\\cos(g))_{k-i})\n",
    "$$\n",
    "\n",
    "$$\n",
    "=\\frac{1}{\\cos{g_0}}(g_k \\cos{g_0} - \\frac{1}{k} ( (\\tan{g})_0 (\\cos{g})_k + \\sum_{i=1}^{k-1} \\{(\\tan{g})_i (\\cos{g})_{k-i} - i\\cdot g_i (\\cos{g})_{k-i} \\}) )\n",
    "$$\n",
    "\n",
    "$$\n",
    "=\\frac{1}{\\cos{g_0}}(g_k \\cos{g_0} - \\frac{1}{k} ( (\\tan{g})_0 (\\cos{g})_k + \\sum_{i=1}^{k-1} \\{((\\tan{g})_i- i\\cdot g_i ) (\\cos{g})_{k-i} \\}) )\n",
    "$$\n",
    "\n",
    "$$\n",
    "=\\frac{1}{\\cos{g_0}}(g_k \\cos{g_0} - \\frac{1}{k}  \\sum_{i=0}^{k-1} \\{((\\tan{g})_i- i\\cdot g_i ) (\\cos{g})_{k-i} \\} )\n",
    "$$\n",
    "\n",
    "$$\n",
    "=g_k  - \\frac{1}{k\\cdot\\cos{g_0}}  \\sum_{i=0}^{k-1} \\{((\\tan{g})_i- i\\cdot g_i ) (\\cos{g})_{k-i} \\} \n",
    "$$\n",
    "\n",
    "con lo que \n",
    "\n",
    "$$\n",
    "(\\tan{g})_k = \\begin{cases} \\tan{g_0} &\\mbox{if } k = 0 \\\\\n",
    " g_k  - \\frac{1}{k\\cdot\\cos{g_0}}  \\sum_{i=0}^{k-1} \\{((\\tan{g})_i- i\\cdot g_i ) (\\cos{g})_{k-i} \\}  & \\mbox{if } k > 0 \\end{cases} \n",
    "$$\n",
    "\n",
    "Como $\\cot{x} = \\cos{x} \\div \\sin{x}$ entonces, las cuentas de arriba son análogas, salvo por cambiar donde diga $\\cos$ por $\\sin$ y $\\tan$ por $\\cot$\n",
    "\n",
    "$$\n",
    "(\\cot{g})_k = \\begin{cases} \\cot{g_0} &\\mbox{if } k = 0 \\\\\n",
    " g_k  - \\frac{1}{k\\cdot\\sin{g_0}}  \\sum_{i=0}^{k-1} \\{((\\cot{g})_i- i\\cdot g_i ) (\\sin{g})_{k-i} \\}  & \\mbox{if } k > 0 \\end{cases} \n",
    "$$\n",
    "\n",
    "Tanto para la tangente como para la cotangente si sucede que $\\cos{g_0}=0$ o que $\\sin{g_0}=0$, respectivamente, entonces el coeficiente de la serie correspondiente diverge. "
   ]
  },
  {
   "cell_type": "markdown",
   "metadata": {},
   "source": [
    "### Ejercicio 2: Integración con Runge–Kutta\n",
    "\n",
    "Utilizando el método de [Runge–Kutta de cuarto orden](http://www.ctcms.nist.gov/~langer/oof2man/RegisteredClass-RK4.html) haz lo siguiente:\n",
    "\n",
    "* Integra la siguiente ecuación diferencial,\n",
    "\n",
    "$$ \\dot{x} = x^2, \\qquad x(0) = 1.$$ \n",
    "\n",
    "* Compara tu solución contra la solución analítica en una gráfica.\n",
    "* Muestra cómo se comporta el error."
   ]
  },
  {
   "cell_type": "markdown",
   "metadata": {},
   "source": [
    "Reciclo código que ya tenía hecho hace ya un año, en la clase del profesor Sanders, en aquella ocasión se nos pidió programar los métodos de integración de Euler, Euler-Cromer, punto medio y Runge-Kuta-4. Lo que hice primero fue declarar cada uno de los métodos y luego llamar una función integradora tal que integrara una función dependiendo del método empleado. Lo mejor es que me dará oportunidad de comparar cada uno de los métodos con la integración de Taylor."
   ]
  },
  {
   "cell_type": "code",
   "execution_count": 2,
   "metadata": {
    "collapsed": false
   },
   "outputs": [
    {
     "data": {
      "text/plain": [
       "rk4 (generic function with 1 method)"
      ]
     },
     "execution_count": 2,
     "metadata": {},
     "output_type": "execute_result"
    }
   ],
   "source": [
    "#En todos los casos:\n",
    "# ti = tiempo inicial\n",
    "# q0 = posición inicial\n",
    "# v0 = velocidad inicial\n",
    "# fq = dx/dt  #Función para la posición\n",
    "# fv = dv/dt = d^2 t / dt^2 #Función para la velocidad\n",
    "# h = tamaño del paso\n",
    "\n",
    "function euler(ti,q0,v0,fq,fv,h)\n",
    "    v_nueva = v0 + h*fv(ti,q0,v0)\n",
    "    q_nueva = q0 + h*fq(ti,q0,v0)\n",
    "    q_nueva , v_nueva\n",
    "end\n",
    "\n",
    "function eulercromer(ti,q0,v0,fq,fv,h)\n",
    "    v_nueva = v0 + h*fv(ti,q0,v0)\n",
    "    q_nueva = q0 + h*fq(ti+h,q0,v_nueva)\n",
    "    q_nueva , v_nueva\n",
    "end\n",
    "\n",
    "function puntomedio(ti,q0,v0,fq,fv,h)\n",
    "    v_nueva = v0 + h*fv(ti,q0,v0)\n",
    "    q_nueva = q0 + h*0.5*(v_nueva + v0)\n",
    "    q_nueva , v_nueva\n",
    "end \n",
    "\n",
    "function rk4(ti,q0,v0,fq,fv,h)\n",
    "        f1v = fv(ti,q0,v0)\n",
    "        f1q = fq(ti,q0,v0)\n",
    "        \n",
    "        f2v = fv(ti+0.5*h,q0+0.5*h*f1q,v0+0.5*h*f1v)\n",
    "        f2q = fq(ti+0.5*h,q0+0.5*h*f1q,v0+0.5*h*f1v)\n",
    "        \n",
    "        f3v = fv(ti+0.5*h,q0+0.5*h*f2q,v0+0.5*h*f2v)\n",
    "        f3q = fq(ti+0.5*h,q0+0.5*h*f2q,v0+0.5*h*f2v)\n",
    "        \n",
    "        f4v = fv(ti+h,q0+h*f3q,v0+h*f3v)\n",
    "        f4q = fq(ti+h,q0+h*f3q,v0+h*f3v)\n",
    "\n",
    "    v_nueva = v0 + (1/6)*h*(f1v+2*f2v+2*f3v+f4v)\n",
    "    q_nueva = q0 + (1/6)*h*(f1q+2*f2q+2*f3q+f4q)\n",
    "    \n",
    "    q_nueva, v_nueva\n",
    "end "
   ]
  },
  {
   "cell_type": "markdown",
   "metadata": {},
   "source": [
    "Ahora lo que se va a declarar es una función de integración."
   ]
  },
  {
   "cell_type": "code",
   "execution_count": 3,
   "metadata": {
    "collapsed": false
   },
   "outputs": [
    {
     "data": {
      "text/plain": [
       "integrar (generic function with 1 method)"
      ]
     },
     "execution_count": 3,
     "metadata": {},
     "output_type": "execute_result"
    }
   ],
   "source": [
    "# tf = tiempo final\n",
    "# método va de 1 a 4, y se selecciona en el orden de las \n",
    "function integrar(t0,tf,q0,v0,fq,fv,h,metodo)\n",
    "  v = Vector{Float64}[v0] #Arreglo para los vectores de velocidad\n",
    "  q = Vector{Float64}[q0] #Arreglo para los vectores de posición\n",
    "  t = Float64[t0] #arreglo de tiempo\n",
    "    \n",
    "    if metodo == 1\n",
    "          for ti in t0:h:tf\n",
    "            R = euler(ti,q0,v0,fq,fv,h)\n",
    "            v0 = R[2]\n",
    "            q0 = R[1]\n",
    "            \n",
    "            push!(t,ti)\n",
    "            push!(v,[v0])\n",
    "            push!(q,[q0])\n",
    "        end\n",
    "            [t hcat(q...)' hcat(v...)']\n",
    "    elseif metodo == 2\n",
    "        for ti in t0:h:tf\n",
    "            R = eulercromer(ti,q0,v0,fq,fv,h)\n",
    "            v0 = R[2]\n",
    "            q0 = R[1]\n",
    "            \n",
    "            push!(t,ti)\n",
    "            push!(v,[v0])\n",
    "            push!(q,[q0])\n",
    "        end\n",
    "        [t hcat(q...)' hcat(v...)']\n",
    "    elseif metodo == 3\n",
    "        for ti in t0:h:tf\n",
    "            R = puntomedio(ti,q0,v0,fq,fv,h)\n",
    "            v0 = R[2]\n",
    "            q0 = R[1]\n",
    "            \n",
    "            push!(t,ti)\n",
    "            push!(v,[v0])\n",
    "            push!(q,[q0])\n",
    "        end\n",
    "        [t hcat(q...)' hcat(v...)']\n",
    "    elseif metodo == 4\n",
    "        for ti in t0:h:tf\n",
    "            R = rk4(ti,q0,v0,fq,fv,h)\n",
    "            v0 = R[2]\n",
    "            q0 = R[1]\n",
    "            \n",
    "            push!(t,ti)\n",
    "            push!(v,[v0])\n",
    "            push!(q,[q0])\n",
    "        end\n",
    "        [t hcat(q...)' hcat(v...)']\n",
    "    else\n",
    "        print(\"SELECCIONE UNA OPCIÓN VÁLIDA\") #Por si no se mete una opción entera entre 1 y 4\n",
    "    end\n",
    "end"
   ]
  },
  {
   "cell_type": "code",
   "execution_count": 4,
   "metadata": {
    "collapsed": false
   },
   "outputs": [
    {
     "data": {
      "text/plain": [
       "f_v (generic function with 1 method)"
      ]
     },
     "execution_count": 4,
     "metadata": {},
     "output_type": "execute_result"
    }
   ],
   "source": [
    "function f_q(t,q,v)\n",
    "    q[1]*q[1]\n",
    "end\n",
    "\n",
    "function f_v(t,q,v)\n",
    "    0\n",
    "end"
   ]
  },
  {
   "cell_type": "code",
   "execution_count": 5,
   "metadata": {
    "collapsed": false
   },
   "outputs": [
    {
     "name": "stderr",
     "output_type": "stream",
     "text": [
      "WARNING: [a] concatenation is deprecated; use collect(a) instead\n"
     ]
    }
   ],
   "source": [
    "A1=integrar(0.0,1.2,collect(1.0),collect(0.0),f_q,f_v,0.00007,1);\n",
    "A2=integrar(0.0,1.2,collect(1.0),collect(0.0),f_q,f_v,0.00007,2);\n",
    "A3=integrar(0.0,1.2,collect(1.0),collect(0.0),f_q,f_v,0.00007,3);\n",
    "A4=integrar(0.0,1.2,collect(1.0),collect(0.0),f_q,f_v,0.00007,4);"
   ]
  },
  {
   "cell_type": "code",
   "execution_count": 6,
   "metadata": {
    "collapsed": false
   },
   "outputs": [
    {
     "name": "stderr",
     "output_type": "stream",
     "text": [
      " in depwarn at deprecated.jl:73\n",
      " in oldstyle_vcat_warning at ./abstractarray.jl:29\n",
      " in vect at abstractarray.jl:32\n",
      " in integrar at In[3]:15\n",
      " in include_string at loading.jl:266\n",
      " in execute_request_0x535c5df2 at /home/csar/.julia/v0.4/IJulia/src/execute_request.jl:177\n",
      " in eventloop at /home/csar/.julia/v0.4/IJulia/src/IJulia.jl:141\n",
      " in anonymous at task.jl:447\n",
      "while loading In[5], in expression starting on line 1\n",
      "WARNING: [a] concatenation is deprecated; use collect(a) instead\n",
      " in depwarn at deprecated.jl:73\n",
      " in oldstyle_vcat_warning at ./abstractarray.jl:29\n",
      " in vect at abstractarray.jl:32\n",
      " in integrar at In[3]:16\n",
      " in include_string at loading.jl:266\n",
      " in execute_request_0x535c5df2 at /home/csar/.julia/v0.4/IJulia/src/execute_request.jl:177\n",
      " in eventloop at /home/csar/.julia/v0.4/IJulia/src/IJulia.jl:141\n",
      " in anonymous at task.jl:447\n",
      "while loading In[5], in expression starting on line 1\n"
     ]
    },
    {
     "data": {
      "image/png": "[encoded data removed]",
      "text/plain": [
       "PyPlot.Figure(PyObject <matplotlib.figure.Figure object at 0x7f9dfc049828>)"
      ]
     },
     "metadata": {},
     "output_type": "display_data"
    },
    {
     "data": {
      "text/plain": [
       "PyObject <matplotlib.legend.Legend object at 0x7f9de75b64a8>"
      ]
     },
     "execution_count": 6,
     "metadata": {},
     "output_type": "execute_result"
    }
   ],
   "source": [
    "plot(A1[:,1],A1[:,2],label=(\"Euler\"));\n",
    "plot(A2[:,1],A2[:,2],label=(\"Euler-Cromer\"));\n",
    "plot(A3[:,1],A3[:,2],label=(\"Punto medio\"));\n",
    "plot(A4[:,1],A4[:,2],label=(\"Runge-Kuta 4\"));\n",
    "xlabel(L\"t\")\n",
    "ylabel(L\"x\")\n",
    "legend(loc=\"upper left\",fancybox=\"true\")"
   ]
  },
  {
   "cell_type": "code",
   "execution_count": 7,
   "metadata": {
    "collapsed": false
   },
   "outputs": [
    {
     "data": {
      "image/png": "[encoded data removed]",
      "text/plain": [
       "PyPlot.Figure(PyObject <matplotlib.figure.Figure object at 0x7f9de75b6f60>)"
      ]
     },
     "metadata": {},
     "output_type": "display_data"
    },
    {
     "data": {
      "text/plain": [
       "PyObject <matplotlib.legend.Legend object at 0x7f9de73999b0>"
      ]
     },
     "execution_count": 7,
     "metadata": {},
     "output_type": "execute_result"
    }
   ],
   "source": [
    "loglog(A1[:,1],A1[:,2],label=(\"Euler\"));\n",
    "loglog(A2[:,1],A2[:,2],label=(\"Euler-Cromer\"));\n",
    "loglog(A3[:,1],A3[:,2],label=(\"Punto medio\"));\n",
    "loglog(A4[:,1],A4[:,2],label=(\"Runge-Kuta 4\"));\n",
    "xlabel(L\"t\")\n",
    "ylabel(L\"x\")\n",
    "legend(loc=\"upper left\",fancybox=\"true\")"
   ]
  },
  {
   "cell_type": "markdown",
   "metadata": {},
   "source": [
    "###  Ejercicio 3: Integración con Taylor \n",
    "\n",
    "Repite los tres puntos del ejercicio anterior utilizando el método de integración de Taylor."
   ]
  },
  {
   "cell_type": "code",
   "execution_count": 8,
   "metadata": {
    "collapsed": false
   },
   "outputs": [
    {
     "data": {
      "text/plain": [
       "coeftay (generic function with 1 method)"
      ]
     },
     "execution_count": 8,
     "metadata": {},
     "output_type": "execute_result"
    }
   ],
   "source": [
    "function coeftay(g0,k)\n",
    "    cof = Float64[g0]\n",
    "    npcoeff = 0.0\n",
    "    x1=g0^2\n",
    "    push!(cof,x1)\n",
    "    \n",
    "    for i in 1:k\n",
    "        npcoeff=vecdot(cof,flipdim(cof,1))/(length(cof))\n",
    "        push!(cof,npcoeff)\n",
    "    end\n",
    "    cof\n",
    "end"
   ]
  },
  {
   "cell_type": "code",
   "execution_count": 56,
   "metadata": {
    "collapsed": false
   },
   "outputs": [
    {
     "data": {
      "text/plain": [
       "12-element Array{Float64,1}:\n",
       " 1.01   \n",
       " 1.0201 \n",
       " 1.0303 \n",
       " 1.0406 \n",
       " 1.05101\n",
       " 1.06152\n",
       " 1.07214\n",
       " 1.08286\n",
       " 1.09369\n",
       " 1.10462\n",
       " 1.11567\n",
       " 1.12683"
      ]
     },
     "execution_count": 56,
     "metadata": {},
     "output_type": "execute_result"
    }
   ],
   "source": [
    "cofs=coeftay(1.01,10)"
   ]
  },
  {
   "cell_type": "code",
   "execution_count": 50,
   "metadata": {
    "collapsed": false
   },
   "outputs": [
    {
     "data": {
      "text/plain": [
       "hache (generic function with 1 method)"
      ]
     },
     "execution_count": 50,
     "metadata": {},
     "output_type": "execute_result"
    }
   ],
   "source": [
    "function hache(arreglo,ϵ)\n",
    "    x=last(arreglo)\n",
    "    n=length(arreglo)-1\n",
    "    h=abs(ϵ/x)^(1/n)\n",
    "    return h\n",
    "end"
   ]
  },
  {
   "cell_type": "code",
   "execution_count": 51,
   "metadata": {
    "collapsed": false
   },
   "outputs": [
    {
     "data": {
      "text/plain": [
       "0.7218616300114233"
      ]
     },
     "execution_count": 51,
     "metadata": {},
     "output_type": "execute_result"
    }
   ],
   "source": [
    "h=hache(cofs,1/2^5)"
   ]
  },
  {
   "cell_type": "code",
   "execution_count": 52,
   "metadata": {
    "collapsed": false
   },
   "outputs": [
    {
     "data": {
      "text/plain": [
       "nuevax (generic function with 1 method)"
      ]
     },
     "execution_count": 52,
     "metadata": {},
     "output_type": "execute_result"
    }
   ],
   "source": [
    "function nuevax(coefs, h)\n",
    "    n=length(coefs)\n",
    "    m=0\n",
    "    for i in 1:n\n",
    "        m+=coefs[i]*h^(i-1)\n",
    "    end\n",
    "    return m\n",
    "end"
   ]
  },
  {
   "cell_type": "code",
   "execution_count": 55,
   "metadata": {
    "collapsed": false
   },
   "outputs": [
    {
     "data": {
      "text/plain": [
       "3.643943377558174"
      ]
     },
     "execution_count": 55,
     "metadata": {},
     "output_type": "execute_result"
    }
   ],
   "source": [
    "xnueva=nuevax(cofs,h)"
   ]
  },
  {
   "cell_type": "code",
   "execution_count": 14,
   "metadata": {
    "collapsed": false
   },
   "outputs": [
    {
     "data": {
      "text/plain": [
       "tempo (generic function with 1 method)"
      ]
     },
     "execution_count": 14,
     "metadata": {},
     "output_type": "execute_result"
    }
   ],
   "source": [
    "function tempo(ϵ,to,tf)\n",
    "    t=Float64[]\n",
    "    for i in to:ϵ:tf\n",
    "        push!(t,i)\n",
    "    end\n",
    "    return t\n",
    "end"
   ]
  },
  {
   "cell_type": "code",
   "execution_count": 46,
   "metadata": {
    "collapsed": false
   },
   "outputs": [
    {
     "data": {
      "text/plain": [
       "taylor (generic function with 1 method)"
      ]
     },
     "execution_count": 46,
     "metadata": {},
     "output_type": "execute_result"
    }
   ],
   "source": [
    "function taylor(g0,k,ϵ,to,tf)\n",
    "    tempos = tempo(ϵ,to,tf);\n",
    "    equis = Float64[g0]\n",
    "    for i in 1:(length(tempos)-1)\n",
    "        cofs=coeftay(g0,k);\n",
    "        h=hache(cofs,ϵ);\n",
    "        g0 = nuevax(cofs,h*(i-1))\n",
    "        push!(equis, g0)\n",
    "    end\n",
    "    return [tempos equis]\n",
    "end"
   ]
  },
  {
   "cell_type": "code",
   "execution_count": 47,
   "metadata": {
    "collapsed": false
   },
   "outputs": [
    {
     "data": {
      "text/plain": [
       "1025x2 Array{Float64,2}:\n",
       " 0.0            1.0       \n",
       " 0.000976563    1.0       \n",
       " 0.00195313     4.98707   \n",
       " 0.00292969     6.14186e6 \n",
       " 0.00390625     1.94691e12\n",
       " 0.00488281   NaN         \n",
       " 0.00585938   NaN         \n",
       " 0.00683594   NaN         \n",
       " 0.0078125    NaN         \n",
       " 0.00878906   NaN         \n",
       " 0.00976563   NaN         \n",
       " 0.0107422    NaN         \n",
       " 0.0117188    NaN         \n",
       " ⋮                        \n",
       " 0.989258     NaN         \n",
       " 0.990234     NaN         \n",
       " 0.991211     NaN         \n",
       " 0.992188     NaN         \n",
       " 0.993164     NaN         \n",
       " 0.994141     NaN         \n",
       " 0.995117     NaN         \n",
       " 0.996094     NaN         \n",
       " 0.99707      NaN         \n",
       " 0.998047     NaN         \n",
       " 0.999023     NaN         \n",
       " 1.0          NaN         "
      ]
     },
     "execution_count": 47,
     "metadata": {},
     "output_type": "execute_result"
    }
   ],
   "source": [
    "grafs=taylor(1,30,1/(2^10),0,1)"
   ]
  },
  {
   "cell_type": "code",
   "execution_count": 45,
   "metadata": {
    "collapsed": false
   },
   "outputs": [
    {
     "data": {
      "image/png": "[encoded data removed]",
      "text/plain": [
       "PyPlot.Figure(PyObject <matplotlib.figure.Figure object at 0x7f9de73e0e10>)"
      ]
     },
     "metadata": {},
     "output_type": "display_data"
    },
    {
     "data": {
      "text/plain": [
       "PyObject <matplotlib.text.Text object at 0x7f9de4cb1438>"
      ]
     },
     "execution_count": 45,
     "metadata": {},
     "output_type": "execute_result"
    }
   ],
   "source": [
    "plot(grafs[:,1],grafs[:,2])\n",
    "xlabel(L\"t\")\n",
    "ylabel(L\"x\")"
   ]
  },
  {
   "cell_type": "markdown",
   "metadata": {},
   "source": [
    "### Ejercicio 4: Recordatorio\n",
    "\n",
    "> Memoria minuitur nisi eam exerceas — La memoria disminuye si no la ejercitas (Marco Tulio Cicerón).\n",
    "\n",
    "Con tus palabras explica (sin utilizar muchas matemáticas) lo siguiente:\n",
    "\n",
    "* La esencia del método de integración de Taylor.\n",
    "* ¿Qué relación tiene con los duales?\n",
    "* ¿Cómo elegimos el paso de avance en el método de Taylor?\n",
    "* ¿Se pueden integrar sistemas de ecuaciones con este método? ¿Por qué?"
   ]
  },
  {
   "cell_type": "code",
   "execution_count": null,
   "metadata": {
    "collapsed": true
   },
   "outputs": [],
   "source": []
  }
 ],
 "metadata": {
  "kernelspec": {
   "display_name": "Julia 0.4.0",
   "language": "julia",
   "name": "julia-0.4"
  },
  "language_info": {
   "file_extension": ".jl",
   "mimetype": "application/julia",
   "name": "julia",
   "version": "0.4.0"
  }
 },
 "nbformat": 4,
 "nbformat_minor": 0
}
